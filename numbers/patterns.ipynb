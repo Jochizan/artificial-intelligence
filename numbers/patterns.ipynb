{
 "cells": [
  {
   "cell_type": "markdown",
   "metadata": {
    "pycharm": {
     "name": "#%% md\n"
    }
   },
   "source": [
    "# Desarrollo de una red neuronal con keras para el reconocimiento de números en patrones\n",
    "\n",
    "## Dependencias\n",
    "\n",
    "- Tensorflow\n",
    "- Keras\n",
    "- matplotlib\n",
    "- pylab"
   ]
  },
  {
   "cell_type": "code",
   "execution_count": 1,
   "metadata": {
    "collapsed": false,
    "jupyter": {
     "outputs_hidden": false
    },
    "pycharm": {
     "name": "#%%\n"
    }
   },
   "outputs": [],
   "source": [
    "\"\"\"\n",
    "    Importamos las librerías necesarias para poder crear nuestras redes neuronales\n",
    "\"\"\"\n",
    "import os\n",
    "import time\n",
    "import unittest\n",
    "import pylab as pl\n",
    "import numpy as np\n",
    "import pandas as pd\n",
    "import matplotlib.pyplot as plt\n",
    "\n",
    "from tensorflow.keras.models import Sequential\n",
    "from tensorflow.keras.layers import Dense, Dropout"
   ]
  },
  {
   "cell_type": "code",
   "execution_count": 3,
   "metadata": {
    "collapsed": false,
    "jupyter": {
     "outputs_hidden": false
    },
    "pycharm": {
     "name": "#%%\n"
    }
   },
   "outputs": [],
   "source": [
    "\"\"\"\n",
    "    Primero compilamos la red definiendo una función de pérdida y un optimizador: en nuestro caso seleccionamos\n",
    "    categorical_crossentropy, porque tenemos múltiples categorías (como en los números 0-9). La función\n",
    "    number_recognition_model nos crea un modelo de Sequential para la predicción de números expresados en patrones de 35\n",
    "    números entre 0 y 1 esta función genera tre capas la primera con 32 neuronas con función de activación \"relu\" otra\n",
    "    con el doble de la anterior con 64 y también función de activación \"relu\" y la capa de salida con 10 neuronas con\n",
    "    función de activación \"softmax\".\n",
    "\"\"\"\n",
    "\n",
    "\n",
    "def number_recognition_model():\n",
    "    dropout = Dropout(0.12)\n",
    "    layer_one = Dense(32, activation='relu', input_shape=(35,))\n",
    "    layer_two = Dense(64, activation='relu')\n",
    "    layer_three = Dense(32, activation='relu')\n",
    "    layer_four = Dense(10, activation='softmax')\n",
    "\n",
    "    number_model = Sequential()\n",
    "    number_model.add(layer_one)\n",
    "    number_model.add(layer_two)\n",
    "    number_model.add(dropout)\n",
    "    number_model.add(layer_three)\n",
    "    number_model.add(layer_four)\n",
    "    number_model.compile(loss='categorical_crossentropy', optimizer='adam', metrics=['accuracy'])\n",
    "\n",
    "    return number_model"
   ]
  },
  {
   "cell_type": "code",
   "execution_count": 4,
   "metadata": {
    "collapsed": false,
    "jupyter": {
     "outputs_hidden": false
    },
    "pycharm": {
     "name": "#%%\n"
    }
   },
   "outputs": [],
   "source": [
    "\"\"\"\n",
    "    Cargamos los datos de entrenamiento para la primera versión de los datos de entrada\n",
    "\"\"\"\n",
    "\n",
    "train_data = np.loadtxt('./number_patterns.txt', delimiter=',')\n",
    "batch = train_data"
   ]
  },
  {
   "cell_type": "code",
   "execution_count": 7,
   "metadata": {
    "collapsed": false,
    "jupyter": {
     "outputs_hidden": false
    },
    "pycharm": {
     "name": "#%%\n"
    }
   },
   "outputs": [],
   "source": [
    "\"\"\"\n",
    "    Cargamos los datos de salida de la primera versión de los datos de salida\n",
    "\"\"\"\n",
    "\n",
    "target_data = np.loadtxt('./number_target.txt', delimiter=',')"
   ]
  },
  {
   "cell_type": "code",
   "execution_count": 9,
   "metadata": {
    "collapsed": false,
    "jupyter": {
     "outputs_hidden": false
    },
    "pycharm": {
     "name": "#%%\n"
    }
   },
   "outputs": [],
   "source": [
    "\"\"\"\n",
    "    Llamar la función para tener el modelo creado con anterioridad\n",
    "\"\"\"\n",
    "\n",
    "model = number_recognition_model()"
   ]
  },
  {
   "cell_type": "code",
   "execution_count": 10,
   "metadata": {
    "collapsed": false,
    "jupyter": {
     "outputs_hidden": false
    },
    "pycharm": {
     "name": "#%%\n"
    }
   },
   "outputs": [
    {
     "name": "stdout",
     "output_type": "stream",
     "text": [
      "Model: \"sequential\"\n",
      "_________________________________________________________________\n",
      "Layer (type)                 Output Shape              Param #   \n",
      "=================================================================\n",
      "dense (Dense)                (None, 32)                1152      \n",
      "_________________________________________________________________\n",
      "dense_1 (Dense)              (None, 64)                2112      \n",
      "_________________________________________________________________\n",
      "dropout (Dropout)            (None, 64)                0         \n",
      "_________________________________________________________________\n",
      "dense_2 (Dense)              (None, 32)                2080      \n",
      "_________________________________________________________________\n",
      "dense_3 (Dense)              (None, 10)                330       \n",
      "=================================================================\n",
      "Total params: 5,674\n",
      "Trainable params: 5,674\n",
      "Non-trainable params: 0\n",
      "_________________________________________________________________\n"
     ]
    }
   ],
   "source": [
    "\"\"\"\n",
    "    Mostramos un resumen de la red neuronal que se utilizara\n",
    "\"\"\"\n",
    "model.summary()"
   ]
  },
  {
   "cell_type": "code",
   "execution_count": 11,
   "metadata": {
    "collapsed": false,
    "jupyter": {
     "outputs_hidden": false
    },
    "pycharm": {
     "name": "#%%\n"
    }
   },
   "outputs": [],
   "source": [
    "\"\"\"\n",
    "Tomar muestra del tiempo para ver cuanto demora la ejecución en milisegundos\n",
    "\"\"\"\n",
    "start = time.time()"
   ]
  },
  {
   "cell_type": "code",
   "execution_count": 12,
   "metadata": {
    "collapsed": false,
    "jupyter": {
     "outputs_hidden": false
    },
    "pycharm": {
     "name": "#%%\n"
    }
   },
   "outputs": [],
   "source": [
    "\"\"\"\n",
    "    Entrenamiento del modelo con variaciones en epochs y batch_size\n",
    "\"\"\"\n",
    "history = model.fit(train_data, target_data,  epochs=200, verbose=0)"
   ]
  },
  {
   "cell_type": "code",
   "execution_count": 13,
   "metadata": {
    "collapsed": false,
    "jupyter": {
     "outputs_hidden": false
    },
    "pycharm": {
     "name": "#%%\n"
    }
   },
   "outputs": [
    {
     "name": "stdout",
     "output_type": "stream",
     "text": [
      "564.0175342559814 ms o 0.5640175342559814 s\n",
      "Tiempo de inicio:  Fri Jul 23 21:51:25 2021\n",
      "Tiempo de finalización:  Fri Jul 23 21:51:25 2021\n",
      "\n"
     ]
    }
   ],
   "source": [
    "\"\"\"\n",
    "    Muestra del tiempo en el que comenzó y finalizo\n",
    "\"\"\"\n",
    "finish = time.time()\n",
    "print((finish - start) * 1000, 'ms o', (finish - start), 's')\n",
    "print('Tiempo de inicio: ', time.asctime(time.localtime(start)))\n",
    "print('Tiempo de finalización: ', time.asctime(time.localtime(finish)))\n",
    "print()"
   ]
  },
  {
   "cell_type": "code",
   "execution_count": 14,
   "metadata": {
    "collapsed": false,
    "jupyter": {
     "outputs_hidden": false
    },
    "pycharm": {
     "name": "#%%\n"
    }
   },
   "outputs": [
    {
     "name": "stdout",
     "output_type": "stream",
     "text": [
      "1/1 [==============================] - 0s 1ms/step - loss: 0.0146 - accuracy: 1.0000\n",
      "\n",
      "accuracy: 100.00%\n",
      "\n"
     ]
    }
   ],
   "source": [
    "\"\"\"\n",
    "    Evaluamos el modelo con sus datos de entrenamiento y verificamos la precisión de este\n",
    "\"\"\"\n",
    "scores = model.evaluate(train_data, target_data)\n",
    "print('\\n%s: %.2f%%' % (model.metrics_names[1], scores[1] * 100))\n",
    "print()"
   ]
  },
  {
   "cell_type": "code",
   "execution_count": 15,
   "metadata": {},
   "outputs": [
    {
     "data": {
      "text/html": [
       "<div>\n",
       "<style scoped>\n",
       "    .dataframe tbody tr th:only-of-type {\n",
       "        vertical-align: middle;\n",
       "    }\n",
       "\n",
       "    .dataframe tbody tr th {\n",
       "        vertical-align: top;\n",
       "    }\n",
       "\n",
       "    .dataframe thead th {\n",
       "        text-align: right;\n",
       "    }\n",
       "</style>\n",
       "<table border=\"1\" class=\"dataframe\">\n",
       "  <thead>\n",
       "    <tr style=\"text-align: right;\">\n",
       "      <th></th>\n",
       "      <th>loss</th>\n",
       "      <th>accuracy</th>\n",
       "      <th>epoch</th>\n",
       "    </tr>\n",
       "  </thead>\n",
       "  <tbody>\n",
       "    <tr>\n",
       "      <th>195</th>\n",
       "      <td>0.037587</td>\n",
       "      <td>1.0</td>\n",
       "      <td>195</td>\n",
       "    </tr>\n",
       "    <tr>\n",
       "      <th>196</th>\n",
       "      <td>0.024500</td>\n",
       "      <td>1.0</td>\n",
       "      <td>196</td>\n",
       "    </tr>\n",
       "    <tr>\n",
       "      <th>197</th>\n",
       "      <td>0.027172</td>\n",
       "      <td>1.0</td>\n",
       "      <td>197</td>\n",
       "    </tr>\n",
       "    <tr>\n",
       "      <th>198</th>\n",
       "      <td>0.018744</td>\n",
       "      <td>1.0</td>\n",
       "      <td>198</td>\n",
       "    </tr>\n",
       "    <tr>\n",
       "      <th>199</th>\n",
       "      <td>0.046839</td>\n",
       "      <td>1.0</td>\n",
       "      <td>199</td>\n",
       "    </tr>\n",
       "  </tbody>\n",
       "</table>\n",
       "</div>"
      ],
      "text/plain": [
       "         loss  accuracy  epoch\n",
       "195  0.037587       1.0    195\n",
       "196  0.024500       1.0    196\n",
       "197  0.027172       1.0    197\n",
       "198  0.018744       1.0    198\n",
       "199  0.046839       1.0    199"
      ]
     },
     "execution_count": 15,
     "metadata": {},
     "output_type": "execute_result"
    }
   ],
   "source": [
    "hist = pd.DataFrame(history.history)\n",
    "hist['epoch'] = history.epoch\n",
    "hist.tail()"
   ]
  },
  {
   "cell_type": "code",
   "execution_count": 16,
   "metadata": {},
   "outputs": [],
   "source": [
    "def plot_history(history):     \n",
    "    hist = pd.DataFrame(history.history)\n",
    "    hist['epoch'] = history.epoch\n",
    "\n",
    "    plt.figure()\n",
    "    plt.xlabel('Epoch')\n",
    "    plt.ylabel('Accuracy')\n",
    "    plt.plot(hist['epoch'], hist['accuracy'],'r',\n",
    "           label='Accuracy')\n",
    "    plt.plot(hist['epoch'], hist['loss'],'b',\n",
    "            label = 'Loss')\n",
    "    plt.ylim([0, 1])\n",
    "    plt.legend()\n",
    "    plt.show()"
   ]
  },
  {
   "cell_type": "code",
   "execution_count": 17,
   "metadata": {},
   "outputs": [
    {
     "data": {
      "image/png": "[encoded data removed]",
      "text/plain": [
       "<Figure size 432x288 with 1 Axes>"
      ]
     },
     "metadata": {
      "needs_background": "light"
     },
     "output_type": "display_data"
    }
   ],
   "source": [
    "plot_history(history)"
   ]
  },
  {
   "cell_type": "code",
   "execution_count": 18,
   "metadata": {
    "collapsed": false,
    "jupyter": {
     "outputs_hidden": false
    },
    "pycharm": {
     "name": "#%%\n"
    }
   },
   "outputs": [],
   "source": [
    "\"\"\"\n",
    "    Hacemos una predicción con los datos generales de entrada\n",
    "\"\"\"\n",
    "predict_data = model.predict(train_data)"
   ]
  },
  {
   "cell_type": "code",
   "execution_count": 19,
   "metadata": {
    "collapsed": false,
    "jupyter": {
     "outputs_hidden": false
    },
    "pycharm": {
     "name": "#%%\n"
    }
   },
   "outputs": [],
   "source": [
    "\"\"\"\n",
    "    Ingresamos datos de test para el número 6 para luego verificar el resultado\n",
    "\"\"\"\n",
    "\n",
    "test_data = np.loadtxt('./testing_data.txt', delimiter=',')\n",
    "test_target = np.loadtxt('./testing_target.txt', delimiter=',')"
   ]
  },
  {
   "cell_type": "code",
   "execution_count": 20,
   "metadata": {},
   "outputs": [],
   "source": [
    "predictions = model.predict(test_data)\n",
    "\n",
    "#print(predictions)\n",
    "\n",
    "predictions = np.argmax(predictions, axis=1)\n",
    "test_target = np.argmax(test_target, axis=1)"
   ]
  },
  {
   "cell_type": "code",
   "execution_count": 22,
   "metadata": {},
   "outputs": [
    {
     "data": {
      "text/plain": [
       "array([[1, 0, 0, 0, 0, 0, 0, 0, 0, 0],\n",
       "       [0, 1, 0, 0, 0, 0, 0, 0, 0, 0],\n",
       "       [0, 0, 1, 0, 0, 0, 0, 0, 0, 0],\n",
       "       [0, 0, 0, 1, 0, 0, 0, 0, 0, 0],\n",
       "       [0, 0, 0, 1, 0, 0, 0, 0, 0, 0],\n",
       "       [0, 0, 0, 0, 0, 1, 0, 0, 0, 0],\n",
       "       [0, 0, 0, 0, 0, 0, 1, 0, 0, 0],\n",
       "       [0, 0, 0, 0, 0, 0, 0, 1, 0, 0],\n",
       "       [0, 0, 0, 0, 0, 0, 0, 0, 1, 0],\n",
       "       [0, 0, 0, 0, 0, 0, 0, 0, 0, 1]], dtype=int64)"
      ]
     },
     "execution_count": 22,
     "metadata": {},
     "output_type": "execute_result"
    }
   ],
   "source": [
    "from sklearn.metrics import confusion_matrix\n",
    "\n",
    "matrix = confusion_matrix(test_target, predictions)\n",
    "acc = matrix.diagonal()\n",
    "\n",
    "matrix, str(acc.sum() / 10 * 100) + '%'"
   ]
  },
  {
   "cell_type": "code",
   "execution_count": 23,
   "metadata": {
    "collapsed": false,
    "jupyter": {
     "outputs_hidden": false
    },
    "pycharm": {
     "name": "#%%\n"
    }
   },
   "outputs": [],
   "source": [
    "\"\"\"\n",
    "    Salvamos el modelo para poder volver a utilizar nuestra red neuronal\n",
    "\"\"\"\n",
    "model.save('numbers_model.h5')"
   ]
  }
 ],
 "metadata": {
  "kernelspec": {
   "display_name": "Python 3",
   "language": "python",
   "name": "python3"
  },
  "language_info": {
   "codemirror_mode": {
    "name": "ipython",
    "version": 3
   },
   "file_extension": ".py",
   "mimetype": "text/x-python",
   "name": "python",
   "nbconvert_exporter": "python",
   "pygments_lexer": "ipython3",
   "version": "3.8.10"
  }
 },
 "nbformat": 4,
 "nbformat_minor": 4
}
