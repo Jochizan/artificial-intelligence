{
 "cells": [
  {
   "cell_type": "code",
   "execution_count": 2,
   "id": "05e98446-460b-41ba-99bc-d0b80f581291",
   "metadata": {},
   "outputs": [],
   "source": [
    "import numpy as np"
   ]
  },
  {
   "cell_type": "markdown",
   "id": "69b70c6a-310f-4b6e-b79b-dca9177cb979",
   "metadata": {},
   "source": [
    "## Scalar"
   ]
  },
  {
   "cell_type": "code",
   "execution_count": 5,
   "id": "6c96cd5f-beb2-4c3e-a842-2f50e8bb13f0",
   "metadata": {},
   "outputs": [
    {
     "data": {
      "text/plain": [
       "(0, ())"
      ]
     },
     "execution_count": 5,
     "metadata": {},
     "output_type": "execute_result"
    }
   ],
   "source": [
    "_X = np.array(42)\n",
    "_X.ndim, _X.shape"
   ]
  },
  {
   "cell_type": "markdown",
   "id": "93dbe113-ee22-42c5-86da-1b24651a1905",
   "metadata": {},
   "source": [
    "## Vector"
   ]
  },
  {
   "cell_type": "code",
   "execution_count": 6,
   "id": "061fcd5c-eeba-4982-810c-02ed37a97181",
   "metadata": {},
   "outputs": [
    {
     "data": {
      "text/plain": [
       "(1, (6,))"
      ]
     },
     "execution_count": 6,
     "metadata": {},
     "output_type": "execute_result"
    }
   ],
   "source": [
    "_X = np.array([42, 3, 5, 3, 6, 7])\n",
    "_X.ndim, _X.shape"
   ]
  },
  {
   "cell_type": "markdown",
   "id": "e0db71b0-2675-4b24-acf4-aeb2cf2c8e42",
   "metadata": {},
   "source": [
    "## Matrix"
   ]
  },
  {
   "cell_type": "code",
   "execution_count": 9,
   "id": "e6dd3b96-e7dc-4993-a123-ddeeeb7651e4",
   "metadata": {},
   "outputs": [
    {
     "data": {
      "text/plain": [
       "(2, (2, 5))"
      ]
     },
     "execution_count": 9,
     "metadata": {},
     "output_type": "execute_result"
    }
   ],
   "source": [
    "_X = np.array([[42, 3, 5, 3, 7], [66, 72, 1, 32, 6]])\n",
    "_X.ndim, _X.shape"
   ]
  },
  {
   "cell_type": "markdown",
   "id": "8bc6c6c8-ff3c-4010-8a26-f9f9361f9d73",
   "metadata": {},
   "source": [
    "## Tensor"
   ]
  },
  {
   "cell_type": "code",
   "execution_count": 18,
   "id": "82142e2c-1a25-45f3-9543-bd4c12fd2cc2",
   "metadata": {},
   "outputs": [
    {
     "data": {
      "text/plain": [
       "(3, (2, 2, 5))"
      ]
     },
     "execution_count": 18,
     "metadata": {},
     "output_type": "execute_result"
    }
   ],
   "source": [
    "_X = np.array([[[42, 3, 5, 3, 7], [42, 3, 5, 3, 7]], [[42, 3, 5, 3, 7], [42, 3, 5, 3, 7]]])\n",
    "_X.ndim, _X.shape"
   ]
  },
  {
   "cell_type": "markdown",
   "id": "e049208d-65ae-4181-9f01-0a31df0b866a",
   "metadata": {},
   "source": [
    "## Reshape"
   ]
  },
  {
   "cell_type": "code",
   "execution_count": 20,
   "id": "0fc437e0-8d14-443c-8e20-f326265c7e60",
   "metadata": {},
   "outputs": [
    {
     "data": {
      "text/plain": [
       "array([[42,  3,  5,  3,  7, 42,  3,  5,  3,  7],\n",
       "       [42,  3,  5,  3,  7, 42,  3,  5,  3,  7]])"
      ]
     },
     "execution_count": 20,
     "metadata": {},
     "output_type": "execute_result"
    }
   ],
   "source": [
    "_X = _X.reshape(2, 10)\n",
    "_X"
   ]
  },
  {
   "cell_type": "code",
   "execution_count": 21,
   "id": "255e0123-4391-4104-b0f8-e252518d28c2",
   "metadata": {},
   "outputs": [
    {
     "data": {
      "text/plain": [
       "array([[42, 42],\n",
       "       [ 3,  3],\n",
       "       [ 5,  5],\n",
       "       [ 3,  3],\n",
       "       [ 7,  7],\n",
       "       [42, 42],\n",
       "       [ 3,  3],\n",
       "       [ 5,  5],\n",
       "       [ 3,  3],\n",
       "       [ 7,  7]])"
      ]
     },
     "execution_count": 21,
     "metadata": {},
     "output_type": "execute_result"
    }
   ],
   "source": [
    "np.transpose(_X)"
   ]
  }
 ],
 "metadata": {
  "kernelspec": {
   "display_name": "tf",
   "language": "python",
   "name": "tf"
  },
  "language_info": {
   "codemirror_mode": {
    "name": "ipython",
    "version": 3
   },
   "file_extension": ".py",
   "mimetype": "text/x-python",
   "name": "python",
   "nbconvert_exporter": "python",
   "pygments_lexer": "ipython3",
   "version": "3.8.11"
  }
 },
 "nbformat": 4,
 "nbformat_minor": 5
}
