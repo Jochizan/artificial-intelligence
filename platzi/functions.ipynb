{
 "cells": [
  {
   "cell_type": "code",
   "execution_count": 2,
   "id": "633f938b-52c3-4a62-9d86-76e96b45397d",
   "metadata": {},
   "outputs": [],
   "source": [
    "import numpy as np\n",
    "import matplotlib.pyplot as plt"
   ]
  },
  {
   "cell_type": "code",
   "execution_count": 7,
   "id": "5c0f8d2b-07f3-4c68-8041-697a147c4298",
   "metadata": {},
   "outputs": [],
   "source": [
    "# función sigmoidal\n",
    "f sigmoid(a):\n",
    "    return 1 / (1 + np.exp(-a))"
   ]
  },
  {
   "cell_type": "code",
   "execution_count": 11,
   "id": "33f18329-457d-48e1-8bd1-85b9589c5ab7",
   "metadata": {},
   "outputs": [],
   "source": [
    "# función step\n",
    "def step(x):\n",
    "    return np.piecewise(x, [x < 0.0, x > 0.0], [0, 1])"
   ]
  },
  {
   "cell_type": "code",
   "execution_count": 24,
   "id": "2a2cd651-c1b7-42f0-8874-693cdee7a803",
   "metadata": {},
   "outputs": [],
   "source": [
    "# función relu\n",
    "def relu(x):\n",
    "    return np.piecewise(x, [x < 0.0, x > 0.0], [0, lambda x: x])"
   ]
  },
  {
   "cell_type": "code",
   "execution_count": 28,
   "id": "2b70091b-696f-4187-b010-bae790401e62",
   "metadata": {},
   "outputs": [],
   "source": [
    "def tanh(x):\n",
    "    return np.tanh(x)"
   ]
  },
  {
   "cell_type": "code",
   "execution_count": 29,
   "id": "f3f8525b-b30c-491a-bc6f-e3aa29fb4816",
   "metadata": {},
   "outputs": [],
   "source": [
    "x = np.linspace(10, -10, 100)"
   ]
  },
  {
   "cell_type": "code",
   "execution_count": 31,
   "id": "46580196-f12a-4a7a-ae7e-81c72e729105",
   "metadata": {},
   "outputs": [
    {
     "data": {
      "text/plain": [
       "[<matplotlib.lines.Line2D at 0x7f1f1783cd90>]"
      ]
     },
     "execution_count": 31,
     "metadata": {},
     "output_type": "execute_result"
    },
    {
     "data": {
      "image/png": "[encoded data removed]",
      "text/plain": [
       "<Figure size 432x288 with 1 Axes>"
      ]
     },
     "metadata": {
      "needs_background": "light"
     },
     "output_type": "display_data"
    }
   ],
   "source": [
    "plt.plot(x, tanh(x))"
   ]
  },
  {
   "cell_type": "code",
   "execution_count": 38,
   "id": "972de16f-43a0-485c-b759-1bc231367ebb",
   "metadata": {},
   "outputs": [],
   "source": [
    "def mse(_y, y, derivate=False):\n",
    "    if derivate:\n",
    "        return (_y - y)\n",
    "    else:\n",
    "        return np.mean((_y - y) ** 2)"
   ]
  },
  {
   "cell_type": "code",
   "execution_count": 39,
   "id": "7898418c-9564-4147-be5c-f4783c3c3390",
   "metadata": {},
   "outputs": [],
   "source": [
    "real = np.array([0, 0, 1, 1])\n",
    "predict = np.array([0.9, 0.5, 0.2, 0.0])"
   ]
  },
  {
   "cell_type": "code",
   "execution_count": 40,
   "id": "3aba75c9-f509-4b66-8dcb-5d4ee713b733",
   "metadata": {},
   "outputs": [
    {
     "data": {
      "text/plain": [
       "array([-0.9, -0.5,  0.8,  1. ])"
      ]
     },
     "execution_count": 40,
     "metadata": {},
     "output_type": "execute_result"
    }
   ],
   "source": [
    "mse(real, predict, True)"
   ]
  }
 ],
 "metadata": {
  "kernelspec": {
   "display_name": "tf",
   "language": "python",
   "name": "tf"
  },
  "language_info": {
   "codemirror_mode": {
    "name": "ipython",
    "version": 3
   },
   "file_extension": ".py",
   "mimetype": "text/x-python",
   "name": "python",
   "nbconvert_exporter": "python",
   "pygments_lexer": "ipython3",
   "version": "3.8.11"
  }
 },
 "nbformat": 4,
 "nbformat_minor": 5
}
