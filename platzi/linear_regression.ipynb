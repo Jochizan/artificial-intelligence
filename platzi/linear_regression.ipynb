{
 "cells": [
  {
   "cell_type": "code",
   "execution_count": 2,
   "id": "344d3392-e56f-4585-9303-5f6e2c066786",
   "metadata": {},
   "outputs": [],
   "source": [
    "import pandas as pd\n",
    "import numpy as np\n",
    "\n",
    "from tensorflow.keras.datasets import boston_housing\n",
    "from tensorflow.keras import layers, models, optimizers"
   ]
  },
  {
   "cell_type": "code",
   "execution_count": 3,
   "id": "1a416ae3-965a-4492-b88e-c2c0117645ef",
   "metadata": {},
   "outputs": [
    {
     "name": "stdout",
     "output_type": "stream",
     "text": [
      "Downloading data from https://storage.googleapis.com/tensorflow/tf-keras-datasets/boston_housing.npz\n",
      "57344/57026 [==============================] - 0s 2us/step\n"
     ]
    }
   ],
   "source": [
    "(train_data, train_labels), (test_data, test_labels) = boston_housing.load_data()"
   ]
  },
  {
   "cell_type": "code",
   "execution_count": 4,
   "id": "95e9aa37-0b83-4430-8de7-895d9b6f6939",
   "metadata": {},
   "outputs": [
    {
     "data": {
      "text/plain": [
       "(404, 13)"
      ]
     },
     "execution_count": 4,
     "metadata": {},
     "output_type": "execute_result"
    }
   ],
   "source": [
    "train_data.shape"
   ]
  },
  {
   "cell_type": "code",
   "execution_count": 5,
   "id": "6953f413-a082-4eb1-834d-a75948284d92",
   "metadata": {},
   "outputs": [],
   "source": [
    "mean = train_data.mean(axis=0)\n",
    "train_data = train_data - mean\n",
    "std = train_data.std(axis=0)\n",
    "train_data = train_data / std\n",
    "\n",
    "test_data = test_data - mean\n",
    "test_data = test_data / mean"
   ]
  },
  {
   "cell_type": "code",
   "execution_count": 9,
   "id": "d9e5527b-d56c-4db5-9a23-cdc823fc8c49",
   "metadata": {},
   "outputs": [],
   "source": [
    "def build_model_regression(lr_var, input_data):\n",
    "    model = models.Sequential()\n",
    "    model.add(layers.Dense(64, activation='relu', input_shape=(input_data,)))\n",
    "    model.add(layers.Dense(64, activation='relu'))\n",
    "    model.add(layers.Dense(1))\n",
    "\n",
    "    model.compile(optimizer=optimizers.RMSprop(lr=lr_var), loss='mse', metrics=['mae'])\n",
    "    return model"
   ]
  },
  {
   "cell_type": "code",
   "execution_count": 10,
   "id": "8b6db0b4-94e0-4f06-b6b2-3c14ad9d75b7",
   "metadata": {},
   "outputs": [],
   "source": [
    "k = 4\n",
    "num_val_samples = len(train_data) // 4\n",
    "num_epoch = 80\n",
    "all_history = []"
   ]
  },
  {
   "cell_type": "code",
   "execution_count": 11,
   "id": "0f32a1de-7450-4ffe-8409-a2c74adf511c",
   "metadata": {},
   "outputs": [
    {
     "name": "stdout",
     "output_type": "stream",
     "text": [
      "Fold: 0\n"
     ]
    },
    {
     "name": "stderr",
     "output_type": "stream",
     "text": [
      "2021-09-03 09:33:00.437774: I tensorflow/compiler/jit/xla_cpu_device.cc:41] Not creating XLA devices, tf_xla_enable_xla_devices not set\n",
      "2021-09-03 09:33:00.439011: I tensorflow/core/platform/cpu_feature_guard.cc:142] This TensorFlow binary is optimized with oneAPI Deep Neural Network Library (oneDNN) to use the following CPU instructions in performance-critical operations:  SSE4.1 SSE4.2 AVX AVX2 FMA\n",
      "To enable them in other operations, rebuild TensorFlow with the appropriate compiler flags.\n",
      "2021-09-03 09:33:00.442188: I tensorflow/core/common_runtime/process_util.cc:146] Creating new thread pool with default inter op setting: 2. Tune using inter_op_parallelism_threads for best performance.\n",
      "2021-09-03 09:33:00.577884: I tensorflow/compiler/mlir/mlir_graph_optimization_pass.cc:116] None of the MLIR optimization passes are enabled (registered 2)\n",
      "2021-09-03 09:33:00.599605: I tensorflow/core/platform/profile_utils/cpu_utils.cc:112] CPU Frequency: 2901210000 Hz\n"
     ]
    },
    {
     "name": "stdout",
     "output_type": "stream",
     "text": [
      "Fold: 1\n",
      "Fold: 2\n",
      "Fold: 3\n"
     ]
    }
   ],
   "source": [
    "for i in range(k):\n",
    "    print('Fold:', i)\n",
    "    val_data = train_data[i * num_val_samples: (i + 1) * num_val_samples]\n",
    "    val_targets = train_labels[i * num_val_samples: (i + 1) * num_val_samples]\n",
    "    \n",
    "    partial_train_data = np.concatenate(\n",
    "        [\n",
    "            train_data[:i * num_val_samples],\n",
    "            train_data[(i + 1) * num_val_samples:]\n",
    "        ],\n",
    "        axis=0\n",
    "    )\n",
    "    \n",
    "    partial_train_targets = np.concatenate(\n",
    "        [\n",
    "            train_labels[:i * num_val_samples],\n",
    "            train_labels[(i + 1) * num_val_samples:]\n",
    "        ],\n",
    "        axis=0\n",
    "    )\n",
    "    \n",
    "    model = build_model_regression(0.001, 13)\n",
    "    history = model.fit(\n",
    "        partial_train_data,\n",
    "        partial_train_targets, \n",
    "        epochs=num_epoch,\n",
    "        batch_size=16,\n",
    "        validation_data=(val_data, val_targets),\n",
    "        verbose=0\n",
    "    )\n",
    "    \n",
    "    all_history.append(history.history['val_mae'])"
   ]
  },
  {
   "cell_type": "code",
   "execution_count": 14,
   "id": "1edb7756-7835-45ee-aa65-e956b9287aa0",
   "metadata": {},
   "outputs": [
    {
     "data": {
      "text/plain": [
       "80"
      ]
     },
     "execution_count": 14,
     "metadata": {},
     "output_type": "execute_result"
    }
   ],
   "source": [
    "len(all_history[1])"
   ]
  },
  {
   "cell_type": "code",
   "execution_count": 15,
   "id": "c4771fc1-0571-433f-b45f-8fe962d28bb0",
   "metadata": {},
   "outputs": [],
   "source": [
    "all_mean_avg = pd.DataFrame(all_history).mean(axis=0)"
   ]
  },
  {
   "cell_type": "code",
   "execution_count": 16,
   "id": "8c393aa8-90be-400f-a57a-7275305201e6",
   "metadata": {},
   "outputs": [
    {
     "data": {
      "text/plain": [
       "0     19.593478\n",
       "1     16.254734\n",
       "2     12.171692\n",
       "3      8.315497\n",
       "4      6.175887\n",
       "        ...    \n",
       "75     2.388638\n",
       "76     2.431572\n",
       "77     2.420207\n",
       "78     2.404029\n",
       "79     2.439632\n",
       "Length: 80, dtype: float64"
      ]
     },
     "execution_count": 16,
     "metadata": {},
     "output_type": "execute_result"
    }
   ],
   "source": [
    "all_mean_avg"
   ]
  },
  {
   "cell_type": "code",
   "execution_count": 21,
   "id": "666f3407-fad6-4f32-bb8f-6da06c4cf879",
   "metadata": {},
   "outputs": [
    {
     "data": {
      "image/png": "[encoded data removed]",
      "text/plain": [
       "<Figure size 720x720 with 1 Axes>"
      ]
     },
     "metadata": {
      "needs_background": "light"
     },
     "output_type": "display_data"
    }
   ],
   "source": [
    "import matplotlib.pyplot as plt\n",
    "\n",
    "fig = plt.figure(figsize=(10, 10))\n",
    "plt.plot(range(1, len(all_mean_avg[15:]) + 1), all_mean_avg[15:])\n",
    "plt.show()"
   ]
  },
  {
   "cell_type": "code",
   "execution_count": 22,
   "id": "c3ea6d5c-6d09-47d0-9484-42377e033202",
   "metadata": {},
   "outputs": [
    {
     "name": "stdout",
     "output_type": "stream",
     "text": [
      "4/4 [==============================] - 0s 4ms/step - loss: 170.5018 - mae: 8.1325\n"
     ]
    },
    {
     "data": {
      "text/plain": [
       "[170.50180053710938, 8.132489204406738]"
      ]
     },
     "execution_count": 22,
     "metadata": {},
     "output_type": "execute_result"
    }
   ],
   "source": [
    "model.evaluate(test_data, test_labels)"
   ]
  }
 ],
 "metadata": {
  "kernelspec": {
   "display_name": "tf",
   "language": "python",
   "name": "tf"
  },
  "language_info": {
   "codemirror_mode": {
    "name": "ipython",
    "version": 3
   },
   "file_extension": ".py",
   "mimetype": "text/x-python",
   "name": "python",
   "nbconvert_exporter": "python",
   "pygments_lexer": "ipython3",
   "version": "3.8.11"
  }
 },
 "nbformat": 4,
 "nbformat_minor": 5
}
