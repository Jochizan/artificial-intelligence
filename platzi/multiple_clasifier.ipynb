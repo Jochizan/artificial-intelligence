{
 "cells": [
  {
   "cell_type": "code",
   "execution_count": 2,
   "id": "e5b3818a-b99f-4479-ad79-09048a396bc8",
   "metadata": {},
   "outputs": [],
   "source": [
    "import numpy as np\n",
    "\n",
    "from tensorflow.keras import layers, models\n",
    "from tensorflow.keras.datasets import reuters\n",
    "from tensorflow.keras.utils import to_categorical"
   ]
  },
  {
   "cell_type": "code",
   "execution_count": 3,
   "id": "1113f0c8-034f-49dc-aa1c-1eb2be868036",
   "metadata": {},
   "outputs": [
    {
     "name": "stderr",
     "output_type": "stream",
     "text": [
      "/home/master/anaconda3/envs/tf/lib/python3.8/site-packages/tensorflow/python/keras/datasets/reuters.py:148: VisibleDeprecationWarning: Creating an ndarray from ragged nested sequences (which is a list-or-tuple of lists-or-tuples-or ndarrays with different lengths or shapes) is deprecated. If you meant to do this, you must specify 'dtype=object' when creating the ndarray.\n",
      "  x_train, y_train = np.array(xs[:idx]), np.array(labels[:idx])\n",
      "/home/master/anaconda3/envs/tf/lib/python3.8/site-packages/tensorflow/python/keras/datasets/reuters.py:149: VisibleDeprecationWarning: Creating an ndarray from ragged nested sequences (which is a list-or-tuple of lists-or-tuples-or ndarrays with different lengths or shapes) is deprecated. If you meant to do this, you must specify 'dtype=object' when creating the ndarray.\n",
      "  x_test, y_test = np.array(xs[idx:]), np.array(labels[idx:])\n"
     ]
    }
   ],
   "source": [
    "(train_data, train_labels), (test_data, test_labels) = reuters.load_data()"
   ]
  },
  {
   "cell_type": "code",
   "execution_count": 4,
   "id": "7cd6e13e-0105-4a43-bc25-13eb5dd1acff",
   "metadata": {},
   "outputs": [
    {
     "data": {
      "text/plain": [
       "((8982,), (2246,))"
      ]
     },
     "execution_count": 4,
     "metadata": {},
     "output_type": "execute_result"
    }
   ],
   "source": [
    "train_data.shape, test_data.shape"
   ]
  },
  {
   "cell_type": "code",
   "execution_count": 5,
   "id": "478ed23a-3f56-4c0c-874b-1392e328b47c",
   "metadata": {},
   "outputs": [],
   "source": [
    "def vectorize(sequences, dim=40000):\n",
    "    results = np.zeros((len(sequences), dim))\n",
    "    \n",
    "    for i, sequence in enumerate(sequences):\n",
    "        results[i, sequence] = 1\n",
    "        \n",
    "    return results"
   ]
  },
  {
   "cell_type": "code",
   "execution_count": 6,
   "id": "07895a22-9b45-402a-9df1-05cf71bfe518",
   "metadata": {},
   "outputs": [],
   "source": [
    "x_train = vectorize(train_data)\n",
    "x_test = vectorize(test_data)"
   ]
  },
  {
   "cell_type": "code",
   "execution_count": 7,
   "id": "3bf954cb-7ec4-4e37-9e35-5d7ea7ead749",
   "metadata": {},
   "outputs": [],
   "source": [
    "from tensorflow.keras.utils import to_categorical"
   ]
  },
  {
   "cell_type": "code",
   "execution_count": 8,
   "id": "7eb00f8c-a75e-4071-8122-3f397e7138e4",
   "metadata": {},
   "outputs": [],
   "source": [
    "y_train = to_categorical(train_labels)\n",
    "y_test = to_categorical(test_labels)"
   ]
  },
  {
   "cell_type": "code",
   "execution_count": 12,
   "id": "cdfd62b2-dfb7-4bb9-856e-58b2a600b37c",
   "metadata": {},
   "outputs": [
    {
     "data": {
      "text/plain": [
       "((8982, 40000), (8982, 46))"
      ]
     },
     "execution_count": 12,
     "metadata": {},
     "output_type": "execute_result"
    }
   ],
   "source": [
    "x_train.shape, y_train.shape"
   ]
  },
  {
   "cell_type": "code",
   "execution_count": 17,
   "id": "9fe1b649-0e14-4ec8-99c4-01efe4f7f81e",
   "metadata": {},
   "outputs": [],
   "source": [
    "model = models.Sequential()\n",
    "model.add(layers.Dense(64, activation='relu', input_shape=(40000,)))\n",
    "model.add(layers.Dense(64, activation='relu'))\n",
    "model.add(layers.Dense(46, activation='softmax'))"
   ]
  },
  {
   "cell_type": "code",
   "execution_count": 18,
   "id": "6b843443-d1b2-461e-84b3-c2fdaa08a2c9",
   "metadata": {},
   "outputs": [],
   "source": [
    "model.compile(\n",
    "    optimizer='rmsprop',\n",
    "    loss='categorical_crossentropy',\n",
    "    metrics=['accuracy']\n",
    ")"
   ]
  },
  {
   "cell_type": "code",
   "execution_count": 19,
   "id": "11408bc2-8d35-4265-a25c-50fe0de48f25",
   "metadata": {},
   "outputs": [
    {
     "data": {
      "text/plain": [
       "((7982, 40000), (7982, 46))"
      ]
     },
     "execution_count": 19,
     "metadata": {},
     "output_type": "execute_result"
    }
   ],
   "source": [
    "x_val = x_train[:1000]\n",
    "partial_x_train = x_train[1000:]\n",
    "\n",
    "y_val = y_train[:1000]\n",
    "partial_y_train = y_train[1000:]\n",
    "\n",
    "partial_x_train.shape, partial_y_train.shape"
   ]
  },
  {
   "cell_type": "code",
   "execution_count": 20,
   "id": "32594504-2b5a-4bd0-aa90-b5d30a22a888",
   "metadata": {},
   "outputs": [
    {
     "name": "stdout",
     "output_type": "stream",
     "text": [
      "Epoch 1/20\n",
      "16/16 [==============================] - 2s 88ms/step - loss: 3.2812 - accuracy: 0.4478 - val_loss: 1.8498 - val_accuracy: 0.6550\n",
      "Epoch 2/20\n",
      "16/16 [==============================] - 1s 72ms/step - loss: 1.5622 - accuracy: 0.6990 - val_loss: 1.3552 - val_accuracy: 0.7190\n",
      "Epoch 3/20\n",
      "16/16 [==============================] - 1s 64ms/step - loss: 1.0777 - accuracy: 0.7803 - val_loss: 1.1709 - val_accuracy: 0.7510\n",
      "Epoch 4/20\n",
      "16/16 [==============================] - 1s 74ms/step - loss: 0.8153 - accuracy: 0.8350 - val_loss: 1.0701 - val_accuracy: 0.7920\n",
      "Epoch 5/20\n",
      "16/16 [==============================] - 1s 69ms/step - loss: 0.6250 - accuracy: 0.8756 - val_loss: 1.0416 - val_accuracy: 0.7930\n",
      "Epoch 6/20\n",
      "16/16 [==============================] - 1s 72ms/step - loss: 0.4987 - accuracy: 0.9033 - val_loss: 0.9765 - val_accuracy: 0.8120\n",
      "Epoch 7/20\n",
      "16/16 [==============================] - 1s 67ms/step - loss: 0.3860 - accuracy: 0.9261 - val_loss: 0.9579 - val_accuracy: 0.8120\n",
      "Epoch 8/20\n",
      "16/16 [==============================] - 1s 65ms/step - loss: 0.3063 - accuracy: 0.9354 - val_loss: 0.9342 - val_accuracy: 0.8280\n",
      "Epoch 9/20\n",
      "16/16 [==============================] - 1s 69ms/step - loss: 0.2578 - accuracy: 0.9434 - val_loss: 0.9552 - val_accuracy: 0.8180\n",
      "Epoch 10/20\n",
      "16/16 [==============================] - 1s 75ms/step - loss: 0.2091 - accuracy: 0.9531 - val_loss: 0.9664 - val_accuracy: 0.8190\n",
      "Epoch 11/20\n",
      "16/16 [==============================] - 1s 72ms/step - loss: 0.1690 - accuracy: 0.9571 - val_loss: 0.9728 - val_accuracy: 0.8170\n",
      "Epoch 12/20\n",
      "16/16 [==============================] - 1s 73ms/step - loss: 0.1495 - accuracy: 0.9599 - val_loss: 1.0174 - val_accuracy: 0.8100\n",
      "Epoch 13/20\n",
      "16/16 [==============================] - 1s 71ms/step - loss: 0.1379 - accuracy: 0.9598 - val_loss: 1.0659 - val_accuracy: 0.7930\n",
      "Epoch 14/20\n",
      "16/16 [==============================] - 1s 67ms/step - loss: 0.1347 - accuracy: 0.9586 - val_loss: 1.0316 - val_accuracy: 0.8110\n",
      "Epoch 15/20\n",
      "16/16 [==============================] - 1s 78ms/step - loss: 0.1226 - accuracy: 0.9602 - val_loss: 1.0516 - val_accuracy: 0.8070\n",
      "Epoch 16/20\n",
      "16/16 [==============================] - 1s 79ms/step - loss: 0.1109 - accuracy: 0.9623 - val_loss: 1.1580 - val_accuracy: 0.7940\n",
      "Epoch 17/20\n",
      "16/16 [==============================] - 1s 81ms/step - loss: 0.1143 - accuracy: 0.9617 - val_loss: 1.1096 - val_accuracy: 0.8050\n",
      "Epoch 18/20\n",
      "16/16 [==============================] - 1s 88ms/step - loss: 0.1138 - accuracy: 0.9610 - val_loss: 1.1622 - val_accuracy: 0.8020\n",
      "Epoch 19/20\n",
      "16/16 [==============================] - 1s 73ms/step - loss: 0.0967 - accuracy: 0.9603 - val_loss: 1.1486 - val_accuracy: 0.8030\n",
      "Epoch 20/20\n",
      "16/16 [==============================] - 1s 68ms/step - loss: 0.0994 - accuracy: 0.9602 - val_loss: 1.1473 - val_accuracy: 0.7950\n"
     ]
    }
   ],
   "source": [
    "history = model.fit(\n",
    "    partial_x_train,\n",
    "    partial_y_train,\n",
    "    epochs=20,\n",
    "    batch_size=512,\n",
    "    validation_data=(x_val, y_val)\n",
    ")"
   ]
  },
  {
   "cell_type": "code",
   "execution_count": 21,
   "id": "7f4da412-977b-4175-b664-16f4be207511",
   "metadata": {},
   "outputs": [
    {
     "data": {
      "image/png": "[encoded data removed]",
      "text/plain": [
       "<Figure size 720x720 with 1 Axes>"
      ]
     },
     "metadata": {
      "needs_background": "light"
     },
     "output_type": "display_data"
    }
   ],
   "source": [
    "import matplotlib.pyplot as plt\n",
    "\n",
    "history_dict = history.history\n",
    "loss_values = history_dict['loss']\n",
    "val_loss_values = history_dict['val_loss']\n",
    "\n",
    "fig = plt.figure(figsize=(10, 10))\n",
    "epoch = range(1, len(loss_values) + 1)\n",
    "plt.plot(epoch, loss_values, 'o', label='training')\n",
    "plt.plot(epoch, val_loss_values, '--', label='validation')\n",
    "plt.legend()\n",
    "plt.show()"
   ]
  },
  {
   "cell_type": "code",
   "execution_count": 23,
   "id": "c0936516-1481-4b5e-9926-d014fa2f57b2",
   "metadata": {},
   "outputs": [
    {
     "name": "stdout",
     "output_type": "stream",
     "text": [
      "71/71 [==============================] - 3s 38ms/step - loss: 1.2789 - accuracy: 0.7778\n"
     ]
    },
    {
     "data": {
      "text/plain": [
       "[1.2788673639297485, 0.777827262878418]"
      ]
     },
     "execution_count": 23,
     "metadata": {},
     "output_type": "execute_result"
    }
   ],
   "source": [
    "model.evaluate(x_test, y_test)"
   ]
  },
  {
   "cell_type": "code",
   "execution_count": 24,
   "id": "19957692-5404-4117-8cd0-e121697ba37d",
   "metadata": {},
   "outputs": [],
   "source": [
    "predictions = model.predict(x_test)"
   ]
  },
  {
   "cell_type": "code",
   "execution_count": 25,
   "id": "a9316023-fad1-44b5-9bb0-3e55597cd0d1",
   "metadata": {},
   "outputs": [
    {
     "data": {
      "text/plain": [
       "array([1.1396407e-07, 1.5934644e-07, 1.7101270e-08, 9.9570650e-01,\n",
       "       4.0000598e-03, 4.3385664e-09, 2.1739907e-10, 2.5574399e-08,\n",
       "       4.0270985e-05, 3.1020511e-07, 2.9941333e-08, 8.8671441e-05,\n",
       "       1.0896956e-06, 1.2205101e-05, 9.8914557e-09, 1.5602734e-07,\n",
       "       9.5037385e-06, 1.1393424e-08, 2.5275773e-08, 8.1986713e-05,\n",
       "       5.1643412e-05, 2.8718450e-06, 1.2097595e-07, 2.2104874e-08,\n",
       "       4.3466621e-08, 2.0896202e-08, 7.7679141e-11, 1.0862065e-08,\n",
       "       1.3833554e-07, 1.0453169e-06, 1.3863265e-06, 1.1650310e-09,\n",
       "       2.5194911e-08, 9.5479613e-10, 8.1690274e-07, 9.2247704e-10,\n",
       "       3.9721488e-07, 3.0127064e-11, 7.5794475e-08, 3.2142131e-10,\n",
       "       1.4024044e-08, 2.7827824e-07, 9.4678470e-09, 2.0089107e-10,\n",
       "       8.9451540e-09, 1.0775134e-11], dtype=float32)"
      ]
     },
     "execution_count": 25,
     "metadata": {},
     "output_type": "execute_result"
    }
   ],
   "source": [
    "predictions[0]"
   ]
  },
  {
   "cell_type": "code",
   "execution_count": 26,
   "id": "88aa2ebd-724a-491f-a505-40564dadce65",
   "metadata": {},
   "outputs": [
    {
     "data": {
      "text/plain": [
       "1.0000001"
      ]
     },
     "execution_count": 26,
     "metadata": {},
     "output_type": "execute_result"
    }
   ],
   "source": [
    "np.sum(predictions[0])"
   ]
  },
  {
   "cell_type": "code",
   "execution_count": 27,
   "id": "82fd2405-7f33-4249-901d-92b34c41889e",
   "metadata": {},
   "outputs": [
    {
     "data": {
      "text/plain": [
       "3"
      ]
     },
     "execution_count": 27,
     "metadata": {},
     "output_type": "execute_result"
    }
   ],
   "source": [
    "np.argmax(predictions[0])"
   ]
  }
 ],
 "metadata": {
  "kernelspec": {
   "display_name": "tf",
   "language": "python",
   "name": "tf"
  },
  "language_info": {
   "codemirror_mode": {
    "name": "ipython",
    "version": 3
   },
   "file_extension": ".py",
   "mimetype": "text/x-python",
   "name": "python",
   "nbconvert_exporter": "python",
   "pygments_lexer": "ipython3",
   "version": "3.8.11"
  }
 },
 "nbformat": 4,
 "nbformat_minor": 5
}
