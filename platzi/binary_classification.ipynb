{
 "cells": [
  {
   "cell_type": "code",
   "execution_count": 3,
   "id": "7b468f17-c33d-4928-b318-be02799ab17d",
   "metadata": {},
   "outputs": [],
   "source": [
    "import numpy as np\n",
    "\n",
    "from tensorflow.keras.datasets import imdb\n",
    "from tensorflow.keras import models, layers, optimizers"
   ]
  },
  {
   "cell_type": "code",
   "execution_count": 4,
   "id": "476b7f42-612b-4f7f-a8c5-d01db9cf2f0e",
   "metadata": {},
   "outputs": [
    {
     "name": "stdout",
     "output_type": "stream",
     "text": [
      "Downloading data from https://storage.googleapis.com/tensorflow/tf-keras-datasets/imdb.npz\n",
      "17465344/17464789 [==============================] - 3s 0us/step\n"
     ]
    },
    {
     "name": "stderr",
     "output_type": "stream",
     "text": [
      "<__array_function__ internals>:5: VisibleDeprecationWarning: Creating an ndarray from ragged nested sequences (which is a list-or-tuple of lists-or-tuples-or ndarrays with different lengths or shapes) is deprecated. If you meant to do this, you must specify 'dtype=object' when creating the ndarray.\n",
      "/home/master/anaconda3/envs/tf/lib/python3.8/site-packages/tensorflow/python/keras/datasets/imdb.py:159: VisibleDeprecationWarning: Creating an ndarray from ragged nested sequences (which is a list-or-tuple of lists-or-tuples-or ndarrays with different lengths or shapes) is deprecated. If you meant to do this, you must specify 'dtype=object' when creating the ndarray.\n",
      "  x_train, y_train = np.array(xs[:idx]), np.array(labels[:idx])\n",
      "/home/master/anaconda3/envs/tf/lib/python3.8/site-packages/tensorflow/python/keras/datasets/imdb.py:160: VisibleDeprecationWarning: Creating an ndarray from ragged nested sequences (which is a list-or-tuple of lists-or-tuples-or ndarrays with different lengths or shapes) is deprecated. If you meant to do this, you must specify 'dtype=object' when creating the ndarray.\n",
      "  x_test, y_test = np.array(xs[idx:]), np.array(labels[idx:])\n"
     ]
    }
   ],
   "source": [
    "(X_data, Y_labels), (_X_data, _Y_labels) = imdb.load_data(num_words=10000)"
   ]
  },
  {
   "cell_type": "code",
   "execution_count": 10,
   "id": "f9fe32c7-5e77-4c93-adf9-8dce5733ebf0",
   "metadata": {},
   "outputs": [],
   "source": [
    "word_index = imdb.get_word_index()\n",
    "word_index = dict([(value, key) for (key, value) in word_index.items()])"
   ]
  },
  {
   "cell_type": "code",
   "execution_count": 14,
   "id": "d29f24a9-28b2-462e-aa43-07fbd73f2022",
   "metadata": {},
   "outputs": [
    {
     "name": "stdout",
     "output_type": "stream",
     "text": [
      "None\n",
      "this\n",
      "film\n",
      "was\n",
      "just\n",
      "brilliant\n",
      "casting\n",
      "location\n",
      "scenery\n",
      "story\n",
      "direction\n",
      "everyone's\n",
      "really\n",
      "suited\n",
      "the\n",
      "part\n",
      "they\n",
      "played\n",
      "and\n",
      "you\n",
      "could\n",
      "just\n",
      "imagine\n",
      "being\n",
      "there\n",
      "robert\n",
      "None\n",
      "is\n",
      "an\n",
      "amazing\n",
      "actor\n",
      "and\n",
      "now\n",
      "the\n",
      "same\n",
      "being\n",
      "director\n",
      "None\n",
      "father\n",
      "came\n",
      "from\n",
      "the\n",
      "same\n",
      "scottish\n",
      "island\n",
      "as\n",
      "myself\n",
      "so\n",
      "i\n",
      "loved\n",
      "the\n",
      "fact\n",
      "there\n",
      "was\n",
      "a\n",
      "real\n",
      "connection\n",
      "with\n",
      "this\n",
      "film\n",
      "the\n",
      "witty\n",
      "remarks\n",
      "throughout\n",
      "the\n",
      "film\n",
      "were\n",
      "great\n",
      "it\n",
      "was\n",
      "just\n",
      "brilliant\n",
      "so\n",
      "much\n",
      "that\n",
      "i\n",
      "bought\n",
      "the\n",
      "film\n",
      "as\n",
      "soon\n",
      "as\n",
      "it\n",
      "was\n",
      "released\n",
      "for\n",
      "None\n",
      "and\n",
      "would\n",
      "recommend\n",
      "it\n",
      "to\n",
      "everyone\n",
      "to\n",
      "watch\n",
      "and\n",
      "the\n",
      "fly\n",
      "fishing\n",
      "was\n",
      "amazing\n",
      "really\n",
      "cried\n",
      "at\n",
      "the\n",
      "end\n",
      "it\n",
      "was\n",
      "so\n",
      "sad\n",
      "and\n",
      "you\n",
      "know\n",
      "what\n",
      "they\n",
      "say\n",
      "if\n",
      "you\n",
      "cry\n",
      "at\n",
      "a\n",
      "film\n",
      "it\n",
      "must\n",
      "have\n",
      "been\n",
      "good\n",
      "and\n",
      "this\n",
      "definitely\n",
      "was\n",
      "also\n",
      "None\n",
      "to\n",
      "the\n",
      "two\n",
      "little\n",
      "boy's\n",
      "that\n",
      "played\n",
      "the\n",
      "None\n",
      "of\n",
      "norman\n",
      "and\n",
      "paul\n",
      "they\n",
      "were\n",
      "just\n",
      "brilliant\n",
      "children\n",
      "are\n",
      "often\n",
      "left\n",
      "out\n",
      "of\n",
      "the\n",
      "None\n",
      "list\n",
      "i\n",
      "think\n",
      "because\n",
      "the\n",
      "stars\n",
      "that\n",
      "play\n",
      "them\n",
      "all\n",
      "grown\n",
      "up\n",
      "are\n",
      "such\n",
      "a\n",
      "big\n",
      "profile\n",
      "for\n",
      "the\n",
      "whole\n",
      "film\n",
      "but\n",
      "these\n",
      "children\n",
      "are\n",
      "amazing\n",
      "and\n",
      "should\n",
      "be\n",
      "praised\n",
      "for\n",
      "what\n",
      "they\n",
      "have\n",
      "done\n",
      "don't\n",
      "you\n",
      "think\n",
      "the\n",
      "whole\n",
      "story\n",
      "was\n",
      "so\n",
      "lovely\n",
      "because\n",
      "it\n",
      "was\n",
      "true\n",
      "and\n",
      "was\n",
      "someone's\n",
      "life\n",
      "after\n",
      "all\n",
      "that\n",
      "was\n",
      "shared\n",
      "with\n",
      "us\n",
      "all\n"
     ]
    }
   ],
   "source": [
    "for _ in X_data[0]:\n",
    "    print(word_index.get(_ -3))"
   ]
  },
  {
   "cell_type": "code",
   "execution_count": 16,
   "id": "b1371e6e-dbac-4347-a01b-8c6b967ef403",
   "metadata": {},
   "outputs": [],
   "source": [
    "def vectorize(sequences, dim=10000):\n",
    "    results = np.zeros((len(sequences), dim))\n",
    "    \n",
    "    for i, sequence in enumerate(sequences):\n",
    "        results[i, sequence] = 1\n",
    "    \n",
    "    return results"
   ]
  },
  {
   "cell_type": "code",
   "execution_count": 17,
   "id": "f5e55e7e-9296-44e6-bb62-83848b406881",
   "metadata": {},
   "outputs": [],
   "source": [
    "X_train = vectorize(X_data)\n",
    "X_test = vectorize(_X_data)"
   ]
  },
  {
   "cell_type": "code",
   "execution_count": 21,
   "id": "b1db5962-65b2-404d-b4c3-b9ba47bfcb2f",
   "metadata": {},
   "outputs": [
    {
     "data": {
      "text/plain": [
       "((25000, 10000), (25000,))"
      ]
     },
     "execution_count": 21,
     "metadata": {},
     "output_type": "execute_result"
    }
   ],
   "source": [
    "X_train.shape, Y_test.shape"
   ]
  },
  {
   "cell_type": "code",
   "execution_count": 20,
   "id": "2322270c-9a14-4720-89f3-8d77e0428f36",
   "metadata": {},
   "outputs": [],
   "source": [
    "Y_train = np.asarray(Y_labels).astype('float32')\n",
    "Y_test = np.asarray(_Y_labels).astype('float32')"
   ]
  },
  {
   "cell_type": "code",
   "execution_count": 22,
   "id": "47b77fb9-27fe-4b04-b8bf-a51ce518fd02",
   "metadata": {},
   "outputs": [
    {
     "name": "stderr",
     "output_type": "stream",
     "text": [
      "2021-09-01 15:58:43.319279: I tensorflow/compiler/jit/xla_cpu_device.cc:41] Not creating XLA devices, tf_xla_enable_xla_devices not set\n",
      "2021-09-01 15:58:43.320450: I tensorflow/core/platform/cpu_feature_guard.cc:142] This TensorFlow binary is optimized with oneAPI Deep Neural Network Library (oneDNN) to use the following CPU instructions in performance-critical operations:  SSE4.1 SSE4.2 AVX AVX2 FMA\n",
      "To enable them in other operations, rebuild TensorFlow with the appropriate compiler flags.\n",
      "2021-09-01 15:58:43.324812: I tensorflow/core/common_runtime/process_util.cc:146] Creating new thread pool with default inter op setting: 2. Tune using inter_op_parallelism_threads for best performance.\n"
     ]
    }
   ],
   "source": [
    "model = models.Sequential()\n",
    "model.add(layers.Dense(16, activation='relu', input_shape=(10000,)))\n",
    "model.add(layers.Dense(32, activation='relu'))\n",
    "model.add(layers.Dense(1, activation='sigmoid'))"
   ]
  },
  {
   "cell_type": "code",
   "execution_count": 23,
   "id": "bf36555a-6289-4aed-955d-fa30e44e4aea",
   "metadata": {},
   "outputs": [],
   "source": [
    "model.compile(\n",
    "    optimizer='rmsprop',\n",
    "    loss='binary_crossentropy',\n",
    "    metrics='accuracy'\n",
    ")"
   ]
  },
  {
   "cell_type": "code",
   "execution_count": 31,
   "id": "2b43b9db-4a90-425d-98a1-a61312abbb10",
   "metadata": {},
   "outputs": [],
   "source": [
    "x_val = X_train[:10000]\n",
    "partial_x_train = X_train[10000:]\n",
    "\n",
    "y_val = Y_train[:10000]\n",
    "partial_y_train = Y_train[10000:]"
   ]
  },
  {
   "cell_type": "code",
   "execution_count": 32,
   "id": "74439455-3bf0-4d26-ab6f-ee477c06dfc4",
   "metadata": {},
   "outputs": [
    {
     "name": "stderr",
     "output_type": "stream",
     "text": [
      "2021-09-01 16:15:36.467483: I tensorflow/compiler/mlir/mlir_graph_optimization_pass.cc:116] None of the MLIR optimization passes are enabled (registered 2)\n",
      "2021-09-01 16:15:36.490235: I tensorflow/core/platform/profile_utils/cpu_utils.cc:112] CPU Frequency: 2901210000 Hz\n"
     ]
    },
    {
     "name": "stdout",
     "output_type": "stream",
     "text": [
      "Epoch 1/4\n",
      "30/30 [==============================] - 2s 60ms/step - loss: 0.6007 - accuracy: 0.6980 - val_loss: 0.3997 - val_accuracy: 0.8644\n",
      "Epoch 2/4\n",
      "30/30 [==============================] - 1s 33ms/step - loss: 0.3323 - accuracy: 0.9019 - val_loss: 0.3077 - val_accuracy: 0.8881\n",
      "Epoch 3/4\n",
      "30/30 [==============================] - 1s 43ms/step - loss: 0.2343 - accuracy: 0.9292 - val_loss: 0.2879 - val_accuracy: 0.8837\n",
      "Epoch 4/4\n",
      "30/30 [==============================] - 1s 32ms/step - loss: 0.1793 - accuracy: 0.9442 - val_loss: 0.3015 - val_accuracy: 0.8803\n"
     ]
    }
   ],
   "source": [
    "history = model.fit(\n",
    "    partial_x_train,\n",
    "    partial_y_train,\n",
    "    epochs=4,\n",
    "    batch_size=512,\n",
    "    validation_data=(x_val, y_val)\n",
    ")"
   ]
  },
  {
   "cell_type": "code",
   "execution_count": 42,
   "id": "58421f10-1e29-4e75-ab5d-0b56c8823efd",
   "metadata": {},
   "outputs": [],
   "source": [
    "import matplotlib.pyplot as plt\n",
    "\n",
    "def plot_history(history):\n",
    "    history_dict = history.history\n",
    "    loss_values = history_dict['loss']\n",
    "    val_loss_values = history_dict['val_loss']\n",
    "\n",
    "    epoch = range(1, len(loss_values) + 1)\n",
    "\n",
    "    plt.plot(epoch, loss_values, 'o', label='loss')\n",
    "    plt.plot(epoch, val_loss_values, '--', label='val_loss')\n",
    "    plt.legend()\n",
    "    plt.show()"
   ]
  },
  {
   "cell_type": "code",
   "execution_count": 43,
   "id": "be790013-488d-4ec6-9467-cd137d41935b",
   "metadata": {},
   "outputs": [
    {
     "name": "stdout",
     "output_type": "stream",
     "text": [
      "782/782 [==============================] - 18s 23ms/step - loss: 0.3269 - accuracy: 0.8672\n"
     ]
    },
    {
     "data": {
      "text/plain": [
       "[0.3269495666027069, 0.8671600222587585]"
      ]
     },
     "execution_count": 43,
     "metadata": {},
     "output_type": "execute_result"
    }
   ],
   "source": [
    "model.evaluate(X_test, Y_test)"
   ]
  },
  {
   "cell_type": "markdown",
   "id": "1eef1451-ec2b-404e-b9be-d4bc41411b97",
   "metadata": {},
   "source": [
    "### Modelo menos complejo"
   ]
  },
  {
   "cell_type": "code",
   "execution_count": 41,
   "id": "ca2e22c9-e603-488d-a869-ca4d473bb0fc",
   "metadata": {},
   "outputs": [
    {
     "name": "stdout",
     "output_type": "stream",
     "text": [
      "Epoch 1/20\n",
      "30/30 [==============================] - 2s 37ms/step - loss: 0.6272 - accuracy: 0.6616 - val_loss: 0.4842 - val_accuracy: 0.8570\n",
      "Epoch 2/20\n",
      "30/30 [==============================] - 1s 30ms/step - loss: 0.4223 - accuracy: 0.8864 - val_loss: 0.3674 - val_accuracy: 0.8732\n",
      "Epoch 3/20\n",
      "30/30 [==============================] - 1s 38ms/step - loss: 0.2991 - accuracy: 0.9148 - val_loss: 0.3049 - val_accuracy: 0.8891\n",
      "Epoch 4/20\n",
      "30/30 [==============================] - 1s 50ms/step - loss: 0.2265 - accuracy: 0.9339 - val_loss: 0.2821 - val_accuracy: 0.8892\n",
      "Epoch 5/20\n",
      "30/30 [==============================] - 1s 45ms/step - loss: 0.1801 - accuracy: 0.9506 - val_loss: 0.2828 - val_accuracy: 0.8872\n",
      "Epoch 6/20\n",
      "30/30 [==============================] - 1s 38ms/step - loss: 0.1481 - accuracy: 0.9573 - val_loss: 0.2752 - val_accuracy: 0.8889\n",
      "Epoch 7/20\n",
      "30/30 [==============================] - 1s 22ms/step - loss: 0.1286 - accuracy: 0.9650 - val_loss: 0.2813 - val_accuracy: 0.8881\n",
      "Epoch 8/20\n",
      "30/30 [==============================] - 1s 21ms/step - loss: 0.1103 - accuracy: 0.9718 - val_loss: 0.2926 - val_accuracy: 0.8861\n",
      "Epoch 9/20\n",
      "30/30 [==============================] - 1s 30ms/step - loss: 0.0925 - accuracy: 0.9759 - val_loss: 0.3103 - val_accuracy: 0.8834\n",
      "Epoch 10/20\n",
      "30/30 [==============================] - 1s 36ms/step - loss: 0.0800 - accuracy: 0.9804 - val_loss: 0.3204 - val_accuracy: 0.8823\n",
      "Epoch 11/20\n",
      "30/30 [==============================] - 1s 49ms/step - loss: 0.0648 - accuracy: 0.9861 - val_loss: 0.3401 - val_accuracy: 0.8811\n",
      "Epoch 12/20\n",
      "30/30 [==============================] - 1s 41ms/step - loss: 0.0570 - accuracy: 0.9879 - val_loss: 0.3888 - val_accuracy: 0.8713\n",
      "Epoch 13/20\n",
      "30/30 [==============================] - 1s 32ms/step - loss: 0.0511 - accuracy: 0.9892 - val_loss: 0.3806 - val_accuracy: 0.8784\n",
      "Epoch 14/20\n",
      "30/30 [==============================] - 1s 35ms/step - loss: 0.0387 - accuracy: 0.9929 - val_loss: 0.4063 - val_accuracy: 0.8759\n",
      "Epoch 15/20\n",
      "30/30 [==============================] - 1s 39ms/step - loss: 0.0326 - accuracy: 0.9948 - val_loss: 0.4348 - val_accuracy: 0.8747\n",
      "Epoch 16/20\n",
      "30/30 [==============================] - 1s 30ms/step - loss: 0.0272 - accuracy: 0.9953 - val_loss: 0.4583 - val_accuracy: 0.8729\n",
      "Epoch 17/20\n",
      "30/30 [==============================] - 1s 46ms/step - loss: 0.0226 - accuracy: 0.9965 - val_loss: 0.4855 - val_accuracy: 0.8716\n",
      "Epoch 18/20\n",
      "30/30 [==============================] - 1s 34ms/step - loss: 0.0171 - accuracy: 0.9973 - val_loss: 0.5462 - val_accuracy: 0.8643\n",
      "Epoch 19/20\n",
      "30/30 [==============================] - 1s 42ms/step - loss: 0.0142 - accuracy: 0.9991 - val_loss: 0.5435 - val_accuracy: 0.8682\n",
      "Epoch 20/20\n",
      "30/30 [==============================] - 1s 29ms/step - loss: 0.0114 - accuracy: 0.9990 - val_loss: 0.5767 - val_accuracy: 0.8675\n"
     ]
    }
   ],
   "source": [
    "model_two = models.Sequential()\n",
    "model_two.add(layers.Dense(8, activation='relu', input_shape=(10000,)))\n",
    "model_two.add(layers.Dense(16, activation='relu'))\n",
    "model_two.add(layers.Dense(1, activation='sigmoid'))\n",
    "\n",
    "model_two.compile(\n",
    "    optimizer='rmsprop',\n",
    "    loss='binary_crossentropy',\n",
    "    metrics='accuracy'\n",
    ")\n",
    "\n",
    "history_two = model_two.fit(\n",
    "    partial_x_train,\n",
    "    partial_y_train,\n",
    "    epochs=20,\n",
    "    batch_size=512,\n",
    "    validation_data=(x_val, y_val)\n",
    ")"
   ]
  },
  {
   "cell_type": "code",
   "execution_count": 44,
   "id": "e70f74f0-b5f8-4d1c-a646-91686541f70a",
   "metadata": {},
   "outputs": [
    {
     "data": {
      "image/png": "[encoded data removed]",
      "text/plain": [
       "<Figure size 432x288 with 1 Axes>"
      ]
     },
     "metadata": {
      "needs_background": "light"
     },
     "output_type": "display_data"
    }
   ],
   "source": [
    "plot_history(history_two)"
   ]
  },
  {
   "cell_type": "markdown",
   "id": "5abc06fd-31e0-403a-9210-e87c4329fcfe",
   "metadata": {},
   "source": [
    "### Regularización"
   ]
  },
  {
   "cell_type": "code",
   "execution_count": 45,
   "id": "0377abc6-f721-4192-953f-77b9df7a56cf",
   "metadata": {},
   "outputs": [],
   "source": [
    "from tensorflow.keras import regularizers"
   ]
  },
  {
   "cell_type": "code",
   "execution_count": 48,
   "id": "5d9b3c36-6ada-4dd9-851a-2e95edf3282f",
   "metadata": {},
   "outputs": [
    {
     "name": "stdout",
     "output_type": "stream",
     "text": [
      "Epoch 1/20\n",
      "30/30 [==============================] - 2s 38ms/step - loss: 0.6541 - accuracy: 0.6697 - val_loss: 0.5227 - val_accuracy: 0.8418\n",
      "Epoch 2/20\n",
      "30/30 [==============================] - 1s 23ms/step - loss: 0.4492 - accuracy: 0.8857 - val_loss: 0.4069 - val_accuracy: 0.8817\n",
      "Epoch 3/20\n",
      "30/30 [==============================] - 1s 21ms/step - loss: 0.3519 - accuracy: 0.9131 - val_loss: 0.3700 - val_accuracy: 0.8728\n",
      "Epoch 4/20\n",
      "30/30 [==============================] - 1s 27ms/step - loss: 0.2982 - accuracy: 0.9289 - val_loss: 0.3418 - val_accuracy: 0.8879\n",
      "Epoch 5/20\n",
      "30/30 [==============================] - 1s 29ms/step - loss: 0.2717 - accuracy: 0.9301 - val_loss: 0.3298 - val_accuracy: 0.8913\n",
      "Epoch 6/20\n",
      "30/30 [==============================] - 1s 39ms/step - loss: 0.2480 - accuracy: 0.9395 - val_loss: 0.3297 - val_accuracy: 0.8895\n",
      "Epoch 7/20\n",
      "30/30 [==============================] - 1s 32ms/step - loss: 0.2282 - accuracy: 0.9477 - val_loss: 0.3273 - val_accuracy: 0.8871\n",
      "Epoch 8/20\n",
      "30/30 [==============================] - 1s 35ms/step - loss: 0.2167 - accuracy: 0.9523 - val_loss: 0.3265 - val_accuracy: 0.8857\n",
      "Epoch 9/20\n",
      "30/30 [==============================] - 1s 35ms/step - loss: 0.2048 - accuracy: 0.9560 - val_loss: 0.3303 - val_accuracy: 0.8839\n",
      "Epoch 10/20\n",
      "30/30 [==============================] - 1s 31ms/step - loss: 0.2027 - accuracy: 0.9573 - val_loss: 0.3333 - val_accuracy: 0.8846\n",
      "Epoch 11/20\n",
      "30/30 [==============================] - 1s 26ms/step - loss: 0.1930 - accuracy: 0.9604 - val_loss: 0.3398 - val_accuracy: 0.8832\n",
      "Epoch 12/20\n",
      "30/30 [==============================] - 1s 27ms/step - loss: 0.1859 - accuracy: 0.9652 - val_loss: 0.3418 - val_accuracy: 0.8836\n",
      "Epoch 13/20\n",
      "30/30 [==============================] - 1s 23ms/step - loss: 0.1791 - accuracy: 0.9664 - val_loss: 0.3463 - val_accuracy: 0.8828\n",
      "Epoch 14/20\n",
      "30/30 [==============================] - 1s 27ms/step - loss: 0.1727 - accuracy: 0.9713 - val_loss: 0.3524 - val_accuracy: 0.8823\n",
      "Epoch 15/20\n",
      "30/30 [==============================] - 1s 25ms/step - loss: 0.1760 - accuracy: 0.9673 - val_loss: 0.3615 - val_accuracy: 0.8783\n",
      "Epoch 16/20\n",
      "30/30 [==============================] - 1s 27ms/step - loss: 0.1685 - accuracy: 0.9705 - val_loss: 0.3621 - val_accuracy: 0.8788\n",
      "Epoch 17/20\n",
      "30/30 [==============================] - 1s 26ms/step - loss: 0.1638 - accuracy: 0.9720 - val_loss: 0.3692 - val_accuracy: 0.8805\n",
      "Epoch 18/20\n",
      "30/30 [==============================] - 1s 27ms/step - loss: 0.1602 - accuracy: 0.9739 - val_loss: 0.3669 - val_accuracy: 0.8803\n",
      "Epoch 19/20\n",
      "30/30 [==============================] - 1s 26ms/step - loss: 0.1547 - accuracy: 0.9763 - val_loss: 0.3730 - val_accuracy: 0.8780\n",
      "Epoch 20/20\n",
      "30/30 [==============================] - 1s 41ms/step - loss: 0.1517 - accuracy: 0.9757 - val_loss: 0.3765 - val_accuracy: 0.8779\n"
     ]
    }
   ],
   "source": [
    "model_reg = models.Sequential()\n",
    "model_reg.add(layers.Dense(8, activation='relu', input_shape=(10000,), \n",
    "                           kernel_regularizer=regularizers.l2(0.001)))\n",
    "model_reg.add(layers.Dense(4, activation='relu', \n",
    "                           kernel_regularizer=regularizers.l2(0.001)))\n",
    "model_reg.add(layers.Dense(1, activation='sigmoid'))\n",
    "\n",
    "model_reg.compile(\n",
    "    optimizer='rmsprop',\n",
    "    loss='binary_crossentropy',\n",
    "    metrics='accuracy'\n",
    ")\n",
    "\n",
    "history_three = model_reg.fit(\n",
    "    partial_x_train,\n",
    "    partial_y_train,\n",
    "    epochs=20,\n",
    "    batch_size=512,\n",
    "    validation_data=(x_val, y_val)\n",
    ")"
   ]
  },
  {
   "cell_type": "code",
   "execution_count": 49,
   "id": "75998c35-97b5-45f8-8031-e2040382415f",
   "metadata": {},
   "outputs": [
    {
     "data": {
      "image/png": "[encoded data removed]",
      "text/plain": [
       "<Figure size 432x288 with 1 Axes>"
      ]
     },
     "metadata": {
      "needs_background": "light"
     },
     "output_type": "display_data"
    }
   ],
   "source": [
    "plot_history(history_three)"
   ]
  },
  {
   "cell_type": "code",
   "execution_count": 50,
   "id": "9019ed8e-606e-4935-b472-a30dac93d789",
   "metadata": {},
   "outputs": [
    {
     "name": "stdout",
     "output_type": "stream",
     "text": [
      "Epoch 1/20\n",
      "30/30 [==============================] - 2s 48ms/step - loss: 0.6496 - accuracy: 0.6174 - val_loss: 0.5437 - val_accuracy: 0.7576\n",
      "Epoch 2/20\n",
      "30/30 [==============================] - 1s 42ms/step - loss: 0.5410 - accuracy: 0.7490 - val_loss: 0.4648 - val_accuracy: 0.8488\n",
      "Epoch 3/20\n",
      "30/30 [==============================] - 1s 32ms/step - loss: 0.4762 - accuracy: 0.7924 - val_loss: 0.4239 - val_accuracy: 0.8729\n",
      "Epoch 4/20\n",
      "30/30 [==============================] - 1s 29ms/step - loss: 0.4286 - accuracy: 0.8299 - val_loss: 0.3811 - val_accuracy: 0.8787\n",
      "Epoch 5/20\n",
      "30/30 [==============================] - 1s 36ms/step - loss: 0.3862 - accuracy: 0.8522 - val_loss: 0.3573 - val_accuracy: 0.8833\n",
      "Epoch 6/20\n",
      "30/30 [==============================] - 1s 26ms/step - loss: 0.3589 - accuracy: 0.8796 - val_loss: 0.3315 - val_accuracy: 0.8843\n",
      "Epoch 7/20\n",
      "30/30 [==============================] - 1s 34ms/step - loss: 0.3351 - accuracy: 0.8857 - val_loss: 0.3216 - val_accuracy: 0.8855\n",
      "Epoch 8/20\n",
      "30/30 [==============================] - 1s 28ms/step - loss: 0.3090 - accuracy: 0.9007 - val_loss: 0.3107 - val_accuracy: 0.8835\n",
      "Epoch 9/20\n",
      "30/30 [==============================] - 1s 31ms/step - loss: 0.2883 - accuracy: 0.9101 - val_loss: 0.3059 - val_accuracy: 0.8844\n",
      "Epoch 10/20\n",
      "30/30 [==============================] - 1s 37ms/step - loss: 0.2682 - accuracy: 0.9194 - val_loss: 0.3120 - val_accuracy: 0.8825\n",
      "Epoch 11/20\n",
      "30/30 [==============================] - 1s 28ms/step - loss: 0.2480 - accuracy: 0.9303 - val_loss: 0.3149 - val_accuracy: 0.8829\n",
      "Epoch 12/20\n",
      "30/30 [==============================] - 1s 27ms/step - loss: 0.2294 - accuracy: 0.9345 - val_loss: 0.3154 - val_accuracy: 0.8829\n",
      "Epoch 13/20\n",
      "30/30 [==============================] - 1s 29ms/step - loss: 0.2175 - accuracy: 0.9407 - val_loss: 0.3339 - val_accuracy: 0.8807\n",
      "Epoch 14/20\n",
      "30/30 [==============================] - 1s 28ms/step - loss: 0.2004 - accuracy: 0.9456 - val_loss: 0.3430 - val_accuracy: 0.8811\n",
      "Epoch 15/20\n",
      "30/30 [==============================] - 1s 44ms/step - loss: 0.1948 - accuracy: 0.9438 - val_loss: 0.3162 - val_accuracy: 0.8827\n",
      "Epoch 16/20\n",
      "30/30 [==============================] - 1s 28ms/step - loss: 0.1763 - accuracy: 0.9547 - val_loss: 0.3692 - val_accuracy: 0.8800\n",
      "Epoch 17/20\n",
      "30/30 [==============================] - 1s 32ms/step - loss: 0.1728 - accuracy: 0.9513 - val_loss: 0.3589 - val_accuracy: 0.8821\n",
      "Epoch 18/20\n",
      "30/30 [==============================] - 1s 29ms/step - loss: 0.1619 - accuracy: 0.9574 - val_loss: 0.3666 - val_accuracy: 0.8829\n",
      "Epoch 19/20\n",
      "30/30 [==============================] - 1s 45ms/step - loss: 0.1551 - accuracy: 0.9585 - val_loss: 0.3871 - val_accuracy: 0.8813\n",
      "Epoch 20/20\n",
      "30/30 [==============================] - 1s 41ms/step - loss: 0.1455 - accuracy: 0.9602 - val_loss: 0.4142 - val_accuracy: 0.8810\n"
     ]
    }
   ],
   "source": [
    "model_drop = models.Sequential()\n",
    "model_drop.add(layers.Dense(8, activation='relu', input_shape=(10000,)))\n",
    "model_drop.add(layers.Dropout(0.25))\n",
    "model_drop.add(layers.Dense(4, activation='relu'))\n",
    "model_drop.add(layers.Dropout(0.25))\n",
    "model_drop.add(layers.Dense(1, activation='sigmoid'))\n",
    "\n",
    "model_drop.compile(\n",
    "    optimizer='rmsprop',\n",
    "    loss='binary_crossentropy',\n",
    "    metrics='accuracy'\n",
    ")\n",
    "\n",
    "history_four = model_drop.fit(\n",
    "    partial_x_train,\n",
    "    partial_y_train,\n",
    "    epochs=20,\n",
    "    batch_size=512,\n",
    "    validation_data=(x_val, y_val)\n",
    ")"
   ]
  },
  {
   "cell_type": "code",
   "execution_count": 51,
   "id": "b6a69361-ce27-439c-94bb-446fbc1ff102",
   "metadata": {},
   "outputs": [
    {
     "data": {
      "image/png": "[encoded data removed]",
      "text/plain": [
       "<Figure size 432x288 with 1 Axes>"
      ]
     },
     "metadata": {
      "needs_background": "light"
     },
     "output_type": "display_data"
    }
   ],
   "source": [
    "plot_history(history_four)"
   ]
  },
  {
   "cell_type": "code",
   "execution_count": null,
   "id": "0ac7e833-bfe3-4a95-8dc4-997fcc05da0f",
   "metadata": {},
   "outputs": [],
   "source": []
  }
 ],
 "metadata": {
  "kernelspec": {
   "display_name": "tf",
   "language": "python",
   "name": "tf"
  },
  "language_info": {
   "codemirror_mode": {
    "name": "ipython",
    "version": 3
   },
   "file_extension": ".py",
   "mimetype": "text/x-python",
   "name": "python",
   "nbconvert_exporter": "python",
   "pygments_lexer": "ipython3",
   "version": "3.8.11"
  }
 },
 "nbformat": 4,
 "nbformat_minor": 5
}
